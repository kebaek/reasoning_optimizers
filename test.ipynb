{
 "cells": [
  {
   "cell_type": "code",
   "execution_count": 5,
   "metadata": {},
   "outputs": [],
   "source": [
    "from datasets import load_dataset\n",
    "import numpy as np\n",
    "import os\n",
    "import argparse\n",
    "from peft import PeftModel\n",
    "from utils import *\n",
    "from huggingface_params import cache_dir, use_auth_token\n",
    "from transformers import AutoModelForCausalLM, AutoTokenizer\n",
    "from tqdm import tqdm \n",
    "import time "
   ]
  },
  {
   "cell_type": "code",
   "execution_count": 6,
   "metadata": {},
   "outputs": [
    {
     "name": "stderr",
     "output_type": "stream",
     "text": [
      "/home/kbaek/miniconda3/envs/sphere/lib/python3.12/site-packages/transformers/models/auto/tokenization_auto.py:809: FutureWarning: The `use_auth_token` argument is deprecated and will be removed in v5 of Transformers. Please use `token` instead.\n",
      "  warnings.warn(\n",
      "/home/kbaek/miniconda3/envs/sphere/lib/python3.12/site-packages/transformers/models/auto/auto_factory.py:471: FutureWarning: The `use_auth_token` argument is deprecated and will be removed in v5 of Transformers. Please use `token` instead.\n",
      "  warnings.warn(\n"
     ]
    }
   ],
   "source": [
    "tokenizer = AutoTokenizer.from_pretrained('gpt2', \n",
    "                                          cache_dir=cache_dir,\n",
    "                                          use_auth_token = use_auth_token,\n",
    "                                          trust_remote_code=True)\n",
    "\n",
    "model = AutoModelForCausalLM.from_pretrained('gpt2', \n",
    "                                            cache_dir=cache_dir,\n",
    "                                            use_auth_token = use_auth_token,\n",
    "                                            trust_remote_code=True)\n",
    "\n",
    "model.generation_config.pad_token_id = tokenizer.pad_token_id\n",
    "model.to(\"cuda\")\n",
    "model.eval()\n",
    "\n",
    "dataset = load_dataset(\"gsm8k\", \"main\")\n",
    "\n",
    "test_questions = dataset[\"test\"][\"question\"]\n",
    "test_answers = dataset[\"test\"]['answer']\n",
    "eval_questions = test_questions\n",
    "eval_questions = [question + \"\\nAnswer:\" for question in eval_questions]\n",
    "eval_answers = test_answers\n",
    "\n",
    "n = 5\n",
    "temperature=0.8\n",
    "max_tokens=512\n",
    "top_p=0.95\n",
    "seed=0\n",
    "stop=\"\\nDone.\"\n",
    "bad_words_ids = [tokenizer(stop).input_ids]"
   ]
  },
  {
   "cell_type": "code",
   "execution_count": 3,
   "metadata": {},
   "outputs": [
    {
     "name": "stdout",
     "output_type": "stream",
     "text": [
      "Janet’s ducks lay 16 eggs per day. She eats three for breakfast every morning and bakes muffins for her friends every day with four. She sells the remainder at the farmers' market daily for $2 per fresh duck egg. How much in dollars does she make every day at the farmers' market?\n"
     ]
    }
   ],
   "source": [
    "start_time = time.time()\n",
    "samples = []\n",
    "for x in test_questions:\n",
    "  tokens = tokenizer(x, return_tensors='pt').to('cuda')\n",
    "  prediction = tokenizer.decode(model.generate(**tokens, temperature=temperature, max_new_tokens=max_tokens, top_p=top_p, bad_words_ids=bad_words_ids)[0])\n",
    "  samples.append(prediction)\n",
    "  break\n",
    "\n",
    "end_time = time.time()"
   ]
  },
  {
   "cell_type": "code",
   "execution_count": null,
   "metadata": {},
   "outputs": [],
   "source": []
  }
 ],
 "metadata": {
  "kernelspec": {
   "display_name": "scrape",
   "language": "python",
   "name": "python3"
  },
  "language_info": {
   "codemirror_mode": {
    "name": "ipython",
    "version": 3
   },
   "file_extension": ".py",
   "mimetype": "text/x-python",
   "name": "python",
   "nbconvert_exporter": "python",
   "pygments_lexer": "ipython3",
   "version": "3.12.0"
  }
 },
 "nbformat": 4,
 "nbformat_minor": 2
}
